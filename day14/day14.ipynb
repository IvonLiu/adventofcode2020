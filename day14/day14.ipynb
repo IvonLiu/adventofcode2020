{
 "metadata": {
  "language_info": {
   "codemirror_mode": {
    "name": "ipython",
    "version": 3
   },
   "file_extension": ".py",
   "mimetype": "text/x-python",
   "name": "python",
   "nbconvert_exporter": "python",
   "pygments_lexer": "ipython3",
   "version": "3.6.7-final"
  },
  "orig_nbformat": 2,
  "kernelspec": {
   "name": "python3",
   "display_name": "Python 3",
   "language": "python"
  }
 },
 "nbformat": 4,
 "nbformat_minor": 2,
 "cells": [
  {
   "source": [
    "## Part 1"
   ],
   "cell_type": "markdown",
   "metadata": {}
  },
  {
   "cell_type": "code",
   "execution_count": 2,
   "metadata": {},
   "outputs": [],
   "source": [
    "from collections import defaultdict"
   ]
  },
  {
   "cell_type": "code",
   "execution_count": 12,
   "metadata": {},
   "outputs": [
    {
     "output_type": "stream",
     "name": "stdout",
     "text": [
      "14862056079561\n"
     ]
    }
   ],
   "source": [
    "mem = defaultdict(lambda: 0)\n",
    "mask = (~0, 0)\n",
    "\n",
    "with open('input.txt') as f:\n",
    "    while True:\n",
    "        line = f.readline()\n",
    "        if not line:\n",
    "            break\n",
    "\n",
    "        if line[:4] == 'mask':\n",
    "            m0 = ~0\n",
    "            m1 = 0\n",
    "            bit = 35\n",
    "            for c in line[7:]:\n",
    "                if c == '0':\n",
    "                    m0 = m0 & ~(1<<bit)\n",
    "                elif c == '1':\n",
    "                    m1 = m1 | (1<<bit)\n",
    "                bit -= 1\n",
    "            mask = (m0, m1)\n",
    "        else:\n",
    "            end = line.find(']')\n",
    "            addr = int(line[4:end])\n",
    "            val = int(line[end+4:])\n",
    "            val &= mask[0]\n",
    "            val |= mask[1]\n",
    "            mem[addr] = val\n",
    "\n",
    "print(sum(mem.values()))\n"
   ]
  },
  {
   "source": [
    "## Part 2"
   ],
   "cell_type": "markdown",
   "metadata": {}
  },
  {
   "cell_type": "code",
   "execution_count": 21,
   "metadata": {},
   "outputs": [
    {
     "output_type": "stream",
     "name": "stdout",
     "text": [
      "3296185383161\n"
     ]
    }
   ],
   "source": [
    "mem = defaultdict(lambda: 0)\n",
    "masks = [(~0, 0)]\n",
    "\n",
    "def generate_mask(maskStr):\n",
    "    m0 = ~0\n",
    "    m1 = 0\n",
    "    floats = []\n",
    "\n",
    "    bit = 35\n",
    "    for c in maskStr:\n",
    "        if c == '1':\n",
    "            m1 |= 1<<bit\n",
    "        elif c == 'X':\n",
    "            floats.append(bit)\n",
    "            m0 &= ~(1<<bit)\n",
    "        bit -= 1\n",
    "    masks = [(m0, m1)]\n",
    "\n",
    "    for f in floats:\n",
    "        masks += [ (mask[0], mask[1] | (1<<f)) for mask in masks ]\n",
    "\n",
    "    return masks\n",
    "\n",
    "def apply(addr, masks, val):\n",
    "    for mask in masks:\n",
    "        a = (addr & mask[0]) | mask[1]\n",
    "        mem[a] = val\n",
    "\n",
    "with open('input.txt') as f:\n",
    "    while True:\n",
    "        line = f.readline()\n",
    "        if not line:\n",
    "            break\n",
    "\n",
    "        if line[:4] == 'mask':\n",
    "            masks = generate_mask(line[7:])\n",
    "        else:\n",
    "            end = line.find(']')\n",
    "            addr = int(line[4:end])\n",
    "            val = int(line[end+4:])\n",
    "            apply(addr, masks, val)\n",
    "\n",
    "print(sum(mem.values()))\n"
   ]
  },
  {
   "cell_type": "code",
   "execution_count": null,
   "metadata": {},
   "outputs": [],
   "source": []
  }
 ]
}