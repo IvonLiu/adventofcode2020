{
 "cells": [
  {
   "cell_type": "code",
   "execution_count": 7,
   "metadata": {
    "collapsed": true
   },
   "outputs": [],
   "source": [
    "from collections import deque"
   ]
  },
  {
   "cell_type": "markdown",
   "metadata": {},
   "source": [
    "## Part 1"
   ]
  },
  {
   "cell_type": "code",
   "execution_count": 43,
   "metadata": {
    "collapsed": true
   },
   "outputs": [],
   "source": [
    "cards = [None] * 2\n",
    "player = -1\n",
    "\n",
    "with open('input.txt') as f:\n",
    "    while True:\n",
    "        line = f.readline()\n",
    "        if not line:\n",
    "            break\n",
    "            \n",
    "        if line.startswith('Player'):\n",
    "            player = int(line.split('Player ')[1].split(':')[0]) - 1\n",
    "            cards[player] = deque()\n",
    "        elif not line.strip():\n",
    "            continue\n",
    "        else:\n",
    "            cards[player].append(int(line.strip()))"
   ]
  },
  {
   "cell_type": "code",
   "execution_count": 21,
   "metadata": {
    "collapsed": true
   },
   "outputs": [],
   "source": [
    "def play(cards):\n",
    "    while cards[0] and cards[1]:\n",
    "        c0 = cards[0].popleft()\n",
    "        c1 = cards[1].popleft()\n",
    "        if c0 > c1:\n",
    "            cards[0].append(c0)\n",
    "            cards[0].append(c1)\n",
    "        else:\n",
    "            cards[1].append(c1)\n",
    "            cards[1].append(c0)\n",
    "    \n",
    "    if cards[0]:\n",
    "        return 0\n",
    "    else:\n",
    "        return 1"
   ]
  },
  {
   "cell_type": "code",
   "execution_count": 22,
   "metadata": {
    "collapsed": true
   },
   "outputs": [],
   "source": [
    "winner = play(cards)  "
   ]
  },
  {
   "cell_type": "code",
   "execution_count": 23,
   "metadata": {},
   "outputs": [
    {
     "name": "stdout",
     "output_type": "stream",
     "text": [
      "32102\n"
     ]
    }
   ],
   "source": [
    "points = 0\n",
    "for i, card in enumerate(cards[winner]):\n",
    "    points += (len(cards[winner]) - i) * card\n",
    "    \n",
    "print(points)"
   ]
  },
  {
   "cell_type": "markdown",
   "metadata": {},
   "source": [
    "## Part 2"
   ]
  },
  {
   "cell_type": "code",
   "execution_count": 35,
   "metadata": {
    "collapsed": true
   },
   "outputs": [],
   "source": [
    "def playRecursive(cards):\n",
    "    cache0 = set()\n",
    "    cache1 = set()\n",
    "    while cards[0] and cards[1]:\n",
    "        key0 = tuple(cards[0])\n",
    "        key1 = tuple(cards[1])\n",
    "        if key0 in cache0 and key1 in cache1:\n",
    "            return 0\n",
    "        cache0.add(key0)\n",
    "        cache1.add(key1)\n",
    "        c0 = cards[0].popleft()\n",
    "        c1 = cards[1].popleft()\n",
    "        if c0 <= len(cards[0]) and c1 <= len(cards[1]):\n",
    "            winner = playRecursive([copy(cards[0], c0), copy(cards[1], c1)])\n",
    "        else:\n",
    "            winner = int(c1 > c0)\n",
    "        loser = 1 - winner\n",
    "        cs = (c0, c1)\n",
    "        cards[winner].append(cs[winner])\n",
    "        cards[winner].append(cs[loser])\n",
    "    \n",
    "    if cards[0]:\n",
    "        return 0\n",
    "    else:\n",
    "        return 1\n",
    "    \n",
    "def copy(d, n):\n",
    "    c = deque()\n",
    "    count = 0\n",
    "    for i in d:\n",
    "        if count == n:\n",
    "            break\n",
    "        c.append(i)\n",
    "        count += 1\n",
    "    return c"
   ]
  },
  {
   "cell_type": "code",
   "execution_count": 44,
   "metadata": {
    "collapsed": true
   },
   "outputs": [],
   "source": [
    "winner = playRecursive(cards)"
   ]
  },
  {
   "cell_type": "code",
   "execution_count": 46,
   "metadata": {},
   "outputs": [
    {
     "name": "stdout",
     "output_type": "stream",
     "text": [
      "34173\n"
     ]
    }
   ],
   "source": [
    "points = 0\n",
    "for i, card in enumerate(cards[winner]):\n",
    "    points += (len(cards[winner]) - i) * card\n",
    "    \n",
    "print(points)"
   ]
  },
  {
   "cell_type": "code",
   "execution_count": null,
   "metadata": {
    "collapsed": true
   },
   "outputs": [],
   "source": []
  }
 ],
 "metadata": {
  "kernelspec": {
   "display_name": "Python 3",
   "language": "python",
   "name": "python3"
  },
  "language_info": {
   "codemirror_mode": {
    "name": "ipython",
    "version": 3
   },
   "file_extension": ".py",
   "mimetype": "text/x-python",
   "name": "python",
   "nbconvert_exporter": "python",
   "pygments_lexer": "ipython3",
   "version": "3.6.4"
  }
 },
 "nbformat": 4,
 "nbformat_minor": 2
}
