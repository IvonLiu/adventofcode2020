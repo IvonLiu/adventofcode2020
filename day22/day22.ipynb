{
 "cells": [
  {
   "cell_type": "code",
   "execution_count": 7,
   "metadata": {
    "collapsed": true
   },
   "outputs": [],
   "source": [
    "from collections import deque"
   ]
  },
  {
   "cell_type": "code",
   "execution_count": 20,
   "metadata": {},
   "outputs": [],
   "source": [
    "cards = [None] * 2\n",
    "player = -1\n",
    "\n",
    "with open('input.txt') as f:\n",
    "    while True:\n",
    "        line = f.readline()\n",
    "        if not line:\n",
    "            break\n",
    "            \n",
    "        if line.startswith('Player'):\n",
    "            player = int(line.split('Player ')[1].split(':')[0]) - 1\n",
    "            cards[player] = deque()\n",
    "        elif not line.strip():\n",
    "            continue\n",
    "        else:\n",
    "            cards[player].append(int(line.strip()))"
   ]
  },
  {
   "cell_type": "code",
   "execution_count": 21,
   "metadata": {
    "collapsed": true
   },
   "outputs": [],
   "source": [
    "def play(cards):\n",
    "    while cards[0] and cards[1]:\n",
    "        c0 = cards[0].popleft()\n",
    "        c1 = cards[1].popleft()\n",
    "        if c0 > c1:\n",
    "            cards[0].append(c0)\n",
    "            cards[0].append(c1)\n",
    "        else:\n",
    "            cards[1].append(c1)\n",
    "            cards[1].append(c0)\n",
    "    \n",
    "    if cards[0]:\n",
    "        return 0\n",
    "    else:\n",
    "        return 1"
   ]
  },
  {
   "cell_type": "code",
   "execution_count": 22,
   "metadata": {},
   "outputs": [],
   "source": [
    "winner = play(cards)  "
   ]
  },
  {
   "cell_type": "code",
   "execution_count": 23,
   "metadata": {},
   "outputs": [
    {
     "name": "stdout",
     "output_type": "stream",
     "text": [
      "32102\n"
     ]
    }
   ],
   "source": [
    "points = 0\n",
    "for i, card in enumerate(cards[winner]):\n",
    "    points += (len(cards[winner]) - i) * card\n",
    "    \n",
    "print(points)"
   ]
  },
  {
   "cell_type": "code",
   "execution_count": null,
   "metadata": {
    "collapsed": true
   },
   "outputs": [],
   "source": []
  }
 ],
 "metadata": {
  "kernelspec": {
   "display_name": "Python 3",
   "language": "python",
   "name": "python3"
  },
  "language_info": {
   "codemirror_mode": {
    "name": "ipython",
    "version": 3
   },
   "file_extension": ".py",
   "mimetype": "text/x-python",
   "name": "python",
   "nbconvert_exporter": "python",
   "pygments_lexer": "ipython3",
   "version": "3.6.4"
  }
 },
 "nbformat": 4,
 "nbformat_minor": 2
}
