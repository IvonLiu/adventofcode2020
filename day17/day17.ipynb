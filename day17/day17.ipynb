{
 "cells": [
  {
   "cell_type": "code",
   "execution_count": 18,
   "metadata": {
    "collapsed": true
   },
   "outputs": [],
   "source": [
    "from collections import defaultdict"
   ]
  },
  {
   "cell_type": "code",
   "execution_count": 38,
   "metadata": {
    "collapsed": true
   },
   "outputs": [],
   "source": [
    "def neighbors(a):\n",
    "    d = (-1, 0, 1)\n",
    "    for dx in d:\n",
    "        for dy in d:\n",
    "            for dz in d:\n",
    "                b = (a[0] + dx, a[1] + dy, a[2] + dz)\n",
    "                if b != a:\n",
    "                    yield b\n",
    "\n",
    "def cycle(actives):\n",
    "    activeNeighborCounts = defaultdict(lambda: 0)\n",
    "    for a in actives:\n",
    "        for b in neighbors(a):\n",
    "            activeNeighborCounts[b] += 1\n",
    "    return { a for a, num in activeNeighborCounts.items() if num == 3 or (num == 2 and a in actives) }"
   ]
  },
  {
   "cell_type": "code",
   "execution_count": 39,
   "metadata": {
    "collapsed": true
   },
   "outputs": [],
   "source": [
    "def print_actives(actives):\n",
    "    zs = sorted(set(a[2] for a in actives))\n",
    "    xs = [a[0] for a in actives]\n",
    "    ys = [a[1] for a in actives]\n",
    "\n",
    "    for z in zs:\n",
    "        print(f'z={z}')\n",
    "        for y in range(min(ys), max(ys)+1):\n",
    "            line = ''\n",
    "            for x in range(min(xs), max(xs)+1):\n",
    "                line += '#' if (x, y, z) in actives else '.'\n",
    "            print(line)"
   ]
  },
  {
   "cell_type": "code",
   "execution_count": 46,
   "metadata": {},
   "outputs": [
    {
     "name": "stdout",
     "output_type": "stream",
     "text": [
      "z=0\n",
      "#####...\n",
      ".#..##..\n",
      "##.##.##\n",
      "...####.\n",
      "#.#...##\n",
      ".##...#.\n",
      ".#.#.###\n",
      "#.#.#..#\n"
     ]
    }
   ],
   "source": [
    "actives = set()\n",
    "\n",
    "with open('input.txt') as f:\n",
    "    x, y, z = 0, 0, 0\n",
    "    while True:\n",
    "        line = f.readline()\n",
    "        if not line:\n",
    "            break\n",
    "        \n",
    "        x = 0\n",
    "        for c in line:\n",
    "            if c == '#':\n",
    "                actives.add((x, y, z))\n",
    "            x += 1\n",
    "        y += 1\n",
    "\n",
    "print_actives(actives)"
   ]
  },
  {
   "cell_type": "code",
   "execution_count": 47,
   "metadata": {},
   "outputs": [],
   "source": [
    "for _ in range(6):\n",
    "    actives = cycle(actives)"
   ]
  },
  {
   "cell_type": "code",
   "execution_count": 48,
   "metadata": {},
   "outputs": [
    {
     "data": {
      "text/plain": [
       "313"
      ]
     },
     "execution_count": 48,
     "metadata": {},
     "output_type": "execute_result"
    }
   ],
   "source": [
    "len(actives)"
   ]
  },
  {
   "cell_type": "code",
   "execution_count": null,
   "metadata": {
    "collapsed": true
   },
   "outputs": [],
   "source": []
  }
 ],
 "metadata": {
  "kernelspec": {
   "display_name": "Python 3",
   "language": "python",
   "name": "python3"
  },
  "language_info": {
   "codemirror_mode": {
    "name": "ipython",
    "version": 3
   },
   "file_extension": ".py",
   "mimetype": "text/x-python",
   "name": "python",
   "nbconvert_exporter": "python",
   "pygments_lexer": "ipython3",
   "version": "3.6.4"
  }
 },
 "nbformat": 4,
 "nbformat_minor": 2
}
