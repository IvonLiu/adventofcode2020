{
 "cells": [
  {
   "cell_type": "code",
   "execution_count": 1,
   "metadata": {
    "collapsed": true
   },
   "outputs": [],
   "source": [
    "from collections import defaultdict"
   ]
  },
  {
   "cell_type": "code",
   "execution_count": 12,
   "metadata": {},
   "outputs": [
    {
     "name": "stdout",
     "output_type": "stream",
     "text": [
      "1958\n"
     ]
    }
   ],
   "source": [
    "counts = defaultdict(lambda: 0)\n",
    "\n",
    "# Map each allergen to a set of ingredients that might contain it\n",
    "aToI = {}\n",
    "with open('input.txt') as f:\n",
    "    while True:\n",
    "        line = f.readline()\n",
    "        if not line:\n",
    "            break\n",
    "            \n",
    "        parts = line.split('(')\n",
    "        ingredients = parts[0].strip().split(' ')\n",
    "        allergens = parts[1].split(')')[0].split('contains ')[1].split(', ')\n",
    "        \n",
    "        for a in allergens:\n",
    "            if a not in aToI:\n",
    "                aToI[a] = set(ingredients)\n",
    "            else:\n",
    "                aToI[a] = {i for i in ingredients if i in aToI[a]}\n",
    "        \n",
    "        for i in ingredients:\n",
    "            counts[i] += 1\n",
    "\n",
    "# Logically \"solve\" the sets so that each allergen is contained in exactly one ingredient                \n",
    "curr = ''\n",
    "iToA = defaultdict(set)\n",
    "\n",
    "for a, ingredients in aToI.items():\n",
    "    if len(ingredients) == 1:\n",
    "        curr = a\n",
    "    for i in ingredients:\n",
    "        iToA[i].add(a)\n",
    "        \n",
    "while curr:\n",
    "    i, = aToI[curr]\n",
    "    nextCurr = ''\n",
    "    for a in iToA[i]:\n",
    "        if a != curr:\n",
    "            aToI[a].remove(i)\n",
    "            if len(aToI[a]) == 1:\n",
    "                nextCurr = a\n",
    "    curr = nextCurr\n",
    "\n",
    "# Add up the counts\n",
    "badIngredients = {next(iter(i))for i in aToI.values()}\n",
    "\n",
    "count = 0\n",
    "for i, c in counts.items():\n",
    "    if i not in badIngredients:\n",
    "        count += c\n",
    "\n",
    "print(count)"
   ]
  },
  {
   "cell_type": "code",
   "execution_count": null,
   "metadata": {
    "collapsed": true
   },
   "outputs": [],
   "source": []
  }
 ],
 "metadata": {
  "kernelspec": {
   "display_name": "Python 3",
   "language": "python",
   "name": "python3"
  },
  "language_info": {
   "codemirror_mode": {
    "name": "ipython",
    "version": 3
   },
   "file_extension": ".py",
   "mimetype": "text/x-python",
   "name": "python",
   "nbconvert_exporter": "python",
   "pygments_lexer": "ipython3",
   "version": "3.6.4"
  }
 },
 "nbformat": 4,
 "nbformat_minor": 2
}
