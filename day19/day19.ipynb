{
 "cells": [
  {
   "cell_type": "code",
   "execution_count": 1,
   "metadata": {
    "collapsed": true
   },
   "outputs": [],
   "source": [
    "from IPython.core.debugger import set_trace"
   ]
  },
  {
   "cell_type": "markdown",
   "metadata": {},
   "source": [
    "## Part 1"
   ]
  },
  {
   "cell_type": "code",
   "execution_count": 33,
   "metadata": {
    "collapsed": true
   },
   "outputs": [],
   "source": [
    "def matches(num, s):\n",
    "    if type(rules[num]) == str:\n",
    "        return [(s.startswith(rules[num]), s[len(rules[num]):])]\n",
    "    \n",
    "    results = []\n",
    "    for opt in rules[num]:\n",
    "        ts = [s]\n",
    "        for r in opt:\n",
    "            ts = [ result[1] for t in ts for result in matches(r, t) if result[0] ]\n",
    "            if not ts:\n",
    "                break\n",
    "        results.extend([(True, t) for t in ts])\n",
    "        \n",
    "    return results"
   ]
  },
  {
   "cell_type": "code",
   "execution_count": 34,
   "metadata": {},
   "outputs": [
    {
     "name": "stdout",
     "output_type": "stream",
     "text": [
      "289\n"
     ]
    }
   ],
   "source": [
    "rules = {}\n",
    "\n",
    "mode = 0\n",
    "count = 0\n",
    "with open('input.txt') as f:\n",
    "    while True:\n",
    "        line = f.readline()\n",
    "        if not line:\n",
    "            break\n",
    "\n",
    "        if line == '\\n':\n",
    "            mode += 1\n",
    "            continue\n",
    "\n",
    "        if mode == 0:\n",
    "            parts = line.split(':')\n",
    "            num = int(parts[0])\n",
    "            if '\"' in parts[1]:\n",
    "                rules[num] = eval(parts[1])\n",
    "            else:\n",
    "                parts = parts[1].strip().split('|')\n",
    "                rule = []\n",
    "                for part in parts:\n",
    "                    rule.append([int(val) for val in part.strip().split(' ')])\n",
    "                rules[num] = rule\n",
    "                \n",
    "        elif mode == 1:\n",
    "            for match, remain in matches(0, line.strip()):\n",
    "                if match and not remain:\n",
    "                    count += 1\n",
    "                    break\n",
    "                \n",
    "print(count)"
   ]
  },
  {
   "cell_type": "markdown",
   "metadata": {},
   "source": [
    "## Part 2"
   ]
  },
  {
   "cell_type": "code",
   "execution_count": 4,
   "metadata": {
    "collapsed": true
   },
   "outputs": [],
   "source": [
    "from collections import deque"
   ]
  },
  {
   "cell_type": "code",
   "execution_count": 10,
   "metadata": {
    "collapsed": true
   },
   "outputs": [],
   "source": [
    "def findMatches(s):\n",
    "    if type(rules[s]) == str:\n",
    "        return [rules[s]]\n",
    "    \n",
    "    matches = []\n",
    "    for opt in rules[s]:\n",
    "        partialMatches = []\n",
    "        for r in opt:\n",
    "            if not partialMatches:\n",
    "                partialMatches = findMatches(r)\n",
    "            else:\n",
    "                partialMatches = [ p + m for p in partialMatches for m in findMatches(r) ]\n",
    "        matches += partialMatches\n",
    "    \n",
    "    return matches"
   ]
  },
  {
   "cell_type": "code",
   "execution_count": 11,
   "metadata": {},
   "outputs": [
    {
     "data": {
      "text/plain": [
       "['babbb',\n",
       " 'baabb',\n",
       " 'bbaab',\n",
       " 'bbabb',\n",
       " 'bbbab',\n",
       " 'bbbbb',\n",
       " 'abbbb',\n",
       " 'aabbb',\n",
       " 'aaaab',\n",
       " 'aaabb',\n",
       " 'aaaba',\n",
       " 'ababa',\n",
       " 'bbbba',\n",
       " 'aaaaa',\n",
       " 'baaaa',\n",
       " 'bbaaa']"
      ]
     },
     "execution_count": 11,
     "metadata": {},
     "output_type": "execute_result"
    }
   ],
   "source": [
    "findMatches(42)"
   ]
  },
  {
   "cell_type": "code",
   "execution_count": 12,
   "metadata": {},
   "outputs": [
    {
     "data": {
      "text/plain": [
       "['bbaba',\n",
       " 'bbbaa',\n",
       " 'babab',\n",
       " 'babaa',\n",
       " 'babba',\n",
       " 'baaba',\n",
       " 'baaab',\n",
       " 'ababb',\n",
       " 'abaab',\n",
       " 'abbab',\n",
       " 'abaaa',\n",
       " 'abbaa',\n",
       " 'abbba',\n",
       " 'aabab',\n",
       " 'aabaa',\n",
       " 'aabba']"
      ]
     },
     "execution_count": 12,
     "metadata": {},
     "output_type": "execute_result"
    }
   ],
   "source": [
    "findMatches(31)"
   ]
  },
  {
   "cell_type": "code",
   "execution_count": 19,
   "metadata": {},
   "outputs": [
    {
     "name": "stdout",
     "output_type": "stream",
     "text": [
      "----- 0 -----\n",
      "[8, 11]\n",
      "----- 8 -----\n",
      "[42]\n",
      "----- 11 -----\n",
      "[42, 31]\n",
      "baabbbbbabbbbbbaabaaabaaa does not match 31\n",
      "[42, 11, 31]\n",
      "----- 11 -----\n",
      "[42, 31]\n",
      "bbbabbbbbbaabaaabaaa does not match 31\n",
      "[42, 11, 31]\n",
      "----- 11 -----\n",
      "[42, 31]\n",
      "baabbbbbabbbbbbaabaaabaaa does not match 31\n",
      "babbbbaabbbbbabbbbbbaabaaabaaa does not match 11\n"
     ]
    },
    {
     "data": {
      "text/plain": [
       "(False, 'babbbbaabbbbbabbbbbbaabaaabaaa')"
      ]
     },
     "execution_count": 19,
     "metadata": {},
     "output_type": "execute_result"
    }
   ],
   "source": [
    "matches(0, 'babbbbaabbbbbabbbbbbaabaaabaaa')"
   ]
  },
  {
   "cell_type": "code",
   "execution_count": null,
   "metadata": {
    "collapsed": true
   },
   "outputs": [],
   "source": []
  }
 ],
 "metadata": {
  "kernelspec": {
   "display_name": "Python 3",
   "language": "python",
   "name": "python3"
  },
  "language_info": {
   "codemirror_mode": {
    "name": "ipython",
    "version": 3
   },
   "file_extension": ".py",
   "mimetype": "text/x-python",
   "name": "python",
   "nbconvert_exporter": "python",
   "pygments_lexer": "ipython3",
   "version": "3.6.4"
  }
 },
 "nbformat": 4,
 "nbformat_minor": 2
}
