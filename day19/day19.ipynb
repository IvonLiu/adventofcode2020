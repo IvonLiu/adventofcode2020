{
 "cells": [
  {
   "cell_type": "code",
   "execution_count": 29,
   "metadata": {
    "collapsed": true
   },
   "outputs": [],
   "source": [
    "def matches(rule, s):\n",
    "    if type(rule) == str:\n",
    "        return s.startswith(rule), s[len(rule):]\n",
    "    \n",
    "    for opt in rule:\n",
    "        t = s\n",
    "        m = True\n",
    "        for r in opt:\n",
    "            m, t = matches(rules[r], t)\n",
    "            if not m:\n",
    "                break\n",
    "        if m:\n",
    "            return True, t\n",
    "    \n",
    "    return False, s"
   ]
  },
  {
   "cell_type": "code",
   "execution_count": 33,
   "metadata": {},
   "outputs": [
    {
     "name": "stdout",
     "output_type": "stream",
     "text": [
      "139\n"
     ]
    }
   ],
   "source": [
    "rules = {}\n",
    "\n",
    "mode = 0\n",
    "count = 0\n",
    "with open('input.txt') as f:\n",
    "    while True:\n",
    "        line = f.readline()\n",
    "        if not line:\n",
    "            break\n",
    "\n",
    "        if line == '\\n':\n",
    "            mode += 1\n",
    "            continue\n",
    "\n",
    "        if mode == 0:\n",
    "            parts = line.split(':')\n",
    "            num = int(parts[0])\n",
    "            if '\"' in parts[1]:\n",
    "                rules[num] = eval(parts[1])\n",
    "            else:\n",
    "                parts = parts[1].strip().split('|')\n",
    "                rule = []\n",
    "                for part in parts:\n",
    "                    rule.append([int(val) for val in part.strip().split(' ')])\n",
    "                rules[num] = rule\n",
    "                \n",
    "        elif mode == 1:\n",
    "            match, remain = matches(rules[0], line.strip())\n",
    "            if match and not remain:\n",
    "                count += 1\n",
    "                \n",
    "print(count)"
   ]
  },
  {
   "cell_type": "code",
   "execution_count": null,
   "metadata": {
    "collapsed": true
   },
   "outputs": [],
   "source": []
  }
 ],
 "metadata": {
  "kernelspec": {
   "display_name": "Python 3",
   "language": "python",
   "name": "python3"
  },
  "language_info": {
   "codemirror_mode": {
    "name": "ipython",
    "version": 3
   },
   "file_extension": ".py",
   "mimetype": "text/x-python",
   "name": "python",
   "nbconvert_exporter": "python",
   "pygments_lexer": "ipython3",
   "version": "3.6.4"
  }
 },
 "nbformat": 4,
 "nbformat_minor": 2
}
