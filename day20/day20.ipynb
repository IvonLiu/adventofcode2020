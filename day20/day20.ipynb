{
 "cells": [
  {
   "cell_type": "code",
   "execution_count": 35,
   "metadata": {
    "collapsed": true
   },
   "outputs": [],
   "source": [
    "from collections import defaultdict"
   ]
  },
  {
   "cell_type": "markdown",
   "metadata": {},
   "source": [
    "## Part 1"
   ]
  },
  {
   "cell_type": "code",
   "execution_count": 120,
   "metadata": {
    "collapsed": true
   },
   "outputs": [],
   "source": [
    "class Tile:\n",
    "    \"\"\"\n",
    "    Borders: list of border strings, from left to right, in order of N, E, S, W\n",
    "    \"\"\"\n",
    "    def __init__(self, id, borders):\n",
    "        self.id = id\n",
    "        self.borders = borders"
   ]
  },
  {
   "cell_type": "code",
   "execution_count": 121,
   "metadata": {},
   "outputs": [],
   "source": [
    "lookup = defaultdict(list)\n",
    "tiles = {}\n",
    "\n",
    "tileId = -1\n",
    "lineCount = 0\n",
    "n = ''\n",
    "e = ''\n",
    "s = ''\n",
    "w = ''\n",
    "with open('input.txt') as f:\n",
    "    while True:\n",
    "        line = f.readline()\n",
    "        if not line:\n",
    "            break\n",
    "        \n",
    "        if line[:4] == 'Tile':\n",
    "            tileId = int(line.split(' ')[1][:-2])\n",
    "            lineCount = 0\n",
    "        elif line == '\\n':\n",
    "            tile = Tile(tileId, [n, e, s, w])\n",
    "            tiles[tileId] = tile\n",
    "            for border in tile.borders:\n",
    "                lookup[border].append(tile)\n",
    "            n = e = s = w = ''\n",
    "        else:\n",
    "            line = line.strip()\n",
    "            if lineCount == 0:\n",
    "                n = line\n",
    "            elif lineCount == 9:\n",
    "                s = line[::-1]\n",
    "            e += line[-1]\n",
    "            w = line[0] + w\n",
    "            lineCount += 1"
   ]
  },
  {
   "cell_type": "code",
   "execution_count": 132,
   "metadata": {},
   "outputs": [
    {
     "name": "stdout",
     "output_type": "stream",
     "text": [
      "1327\n",
      "3571\n",
      "3391\n",
      "1823\n",
      "\n",
      "29293767579581\n"
     ]
    }
   ],
   "source": [
    "neighbors = {}\n",
    "product = 1\n",
    "for id, tile in tiles.items():\n",
    "    matches = []\n",
    "    for b in tile.borders:\n",
    "        for t in lookup[b] + lookup[b[::-1]]:\n",
    "            if t.id != tile.id:\n",
    "                matches.append(t)\n",
    "    neighbors[id] = [t.id for t in matches]\n",
    "    if len(matches) == 2:\n",
    "        product *= tile.id\n",
    "        print(tile.id)\n",
    "#     print(f'{tile.id}: {len(matches)}')\n",
    "\n",
    "print()\n",
    "print(product)"
   ]
  },
  {
   "cell_type": "code",
   "execution_count": null,
   "metadata": {
    "collapsed": true
   },
   "outputs": [],
   "source": []
  }
 ],
 "metadata": {
  "kernelspec": {
   "display_name": "Python 3",
   "language": "python",
   "name": "python3"
  },
  "language_info": {
   "codemirror_mode": {
    "name": "ipython",
    "version": 3
   },
   "file_extension": ".py",
   "mimetype": "text/x-python",
   "name": "python",
   "nbconvert_exporter": "python",
   "pygments_lexer": "ipython3",
   "version": "3.6.4"
  }
 },
 "nbformat": 4,
 "nbformat_minor": 2
}
