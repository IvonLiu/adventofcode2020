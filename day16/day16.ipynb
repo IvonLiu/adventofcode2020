{
 "metadata": {
  "language_info": {
   "codemirror_mode": {
    "name": "ipython",
    "version": 3
   },
   "file_extension": ".py",
   "mimetype": "text/x-python",
   "name": "python",
   "nbconvert_exporter": "python",
   "pygments_lexer": "ipython3",
   "version": "3.6.7-final"
  },
  "orig_nbformat": 2,
  "kernelspec": {
   "name": "python3",
   "display_name": "Python 3",
   "language": "python"
  }
 },
 "nbformat": 4,
 "nbformat_minor": 2,
 "cells": [
  {
   "source": [
    "## Part 1"
   ],
   "cell_type": "markdown",
   "metadata": {}
  },
  {
   "cell_type": "code",
   "execution_count": 10,
   "metadata": {},
   "outputs": [],
   "source": [
    "import re"
   ]
  },
  {
   "cell_type": "code",
   "execution_count": 17,
   "metadata": {},
   "outputs": [
    {
     "output_type": "stream",
     "name": "stdout",
     "text": [
      "4\n55\n12\n71\n"
     ]
    }
   ],
   "source": [
    "mode = 0\n",
    "\n",
    "rules = []\n",
    "error_rate = 0\n",
    "\n",
    "with open('input_sample.txt') as f:\n",
    "    while True:\n",
    "        line = f.readline()\n",
    "        if not line:\n",
    "            break\n",
    "        \n",
    "        if line == '\\n':\n",
    "            mode += 1\n",
    "            continue\n",
    "\n",
    "        if mode == 0:\n",
    "            # read rules\n",
    "            for match in re.finditer(r'(\\d+)-(\\d+)', line):\n",
    "                rules.append((int(match.group(1)), int(match.group(2))))\n",
    "        \n",
    "        elif mode == 1:\n",
    "            pass\n",
    "\n",
    "        elif mode == 2:\n",
    "            if line == 'nearby tickets:\\n':\n",
    "                continue\n",
    "\n",
    "            vals = [int(val) for val in line.split(',')]\n",
    "            for val in vals:\n",
    "                if (sum([rule[0] <= val <= rule[1] for rule in rules]) == 0):\n",
    "                    error_rate += val\n",
    "\n",
    "print(error_rate)"
   ]
  },
  {
   "cell_type": "code",
   "execution_count": null,
   "metadata": {},
   "outputs": [],
   "source": []
  }
 ]
}