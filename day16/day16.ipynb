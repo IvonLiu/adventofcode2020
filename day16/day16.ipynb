{
 "metadata": {
  "language_info": {
   "codemirror_mode": {
    "name": "ipython",
    "version": 3
   },
   "file_extension": ".py",
   "mimetype": "text/x-python",
   "name": "python",
   "nbconvert_exporter": "python",
   "pygments_lexer": "ipython3",
   "version": "3.6.7-final"
  },
  "orig_nbformat": 2,
  "kernelspec": {
   "name": "python3",
   "display_name": "Python 3",
   "language": "python"
  }
 },
 "nbformat": 4,
 "nbformat_minor": 2,
 "cells": [
  {
   "source": [
    "## Part 1"
   ],
   "cell_type": "markdown",
   "metadata": {}
  },
  {
   "cell_type": "code",
   "execution_count": 10,
   "metadata": {},
   "outputs": [],
   "source": [
    "import re"
   ]
  },
  {
   "cell_type": "code",
   "execution_count": 76,
   "metadata": {},
   "outputs": [
    {
     "output_type": "stream",
     "name": "stdout",
     "text": [
      "20060\n"
     ]
    }
   ],
   "source": [
    "mode = 0\n",
    "\n",
    "rules = []\n",
    "my = []\n",
    "tickets = []\n",
    "error_rate = 0\n",
    "\n",
    "with open('input.txt') as f:\n",
    "    while True:\n",
    "        line = f.readline()\n",
    "        if not line:\n",
    "            break\n",
    "        \n",
    "        if line == '\\n':\n",
    "            mode += 1\n",
    "            continue\n",
    "\n",
    "        if mode == 0:\n",
    "            # read rules\n",
    "            name = line.split(':')[0]\n",
    "            for match in re.finditer(r'(\\d+)-(\\d+)', line):\n",
    "                rules.append((int(match.group(1)), int(match.group(2)), name))\n",
    "        \n",
    "        elif mode == 1:\n",
    "            if line[:4] == 'your':\n",
    "                continue\n",
    "            my = [int(val) for val in line.split(',')]\n",
    "\n",
    "        elif mode == 2:\n",
    "            if line == 'nearby tickets:\\n':\n",
    "                continue\n",
    "            \n",
    "            vals = [int(val) for val in line.split(',')]\n",
    "            valid = True\n",
    "            for val in vals:\n",
    "                if (sum([rule[0] <= val <= rule[1] for rule in rules]) == 0):\n",
    "                    valid = False\n",
    "                    error_rate += val\n",
    "            if valid:\n",
    "                tickets.append(vals)\n",
    "\n",
    "print(error_rate)"
   ]
  },
  {
   "source": [
    "## Part 2"
   ],
   "cell_type": "markdown",
   "metadata": {}
  },
  {
   "cell_type": "code",
   "execution_count": 77,
   "metadata": {},
   "outputs": [
    {
     "output_type": "stream",
     "name": "stdout",
     "text": [
      "190\n[131, 103, 109, 67, 127, 97, 89, 79, 163, 59, 73, 83, 61, 107, 53, 193, 167, 101, 71, 197]\n"
     ]
    }
   ],
   "source": [
    "print(len(tickets))\n",
    "print(my)"
   ]
  },
  {
   "cell_type": "code",
   "execution_count": 93,
   "metadata": {},
   "outputs": [],
   "source": [
    "class Field:\n",
    "    def __init__(self, rules, numFields):\n",
    "        self.name = rules[0][2]\n",
    "        self.rules = rules\n",
    "        self.positions = set(range(numFields))\n",
    "\n",
    "    def satisfies(self, val):\n",
    "        for rule in self.rules:\n",
    "            if (rule[0] <= val <= rule[1]):\n",
    "                return True\n",
    "        return False\n",
    "            "
   ]
  },
  {
   "cell_type": "code",
   "execution_count": 131,
   "metadata": {},
   "outputs": [],
   "source": [
    "numFields = len(my)\n",
    "fields = [ Field(rules[2*i:2*i+2], numFields) for i in range(numFields) ]"
   ]
  },
  {
   "cell_type": "code",
   "execution_count": 132,
   "metadata": {},
   "outputs": [],
   "source": [
    "for ticket in tickets:\n",
    "    for field in fields:\n",
    "        field.positions = { pos for pos in field.positions if field.satisfies(ticket[pos]) }"
   ]
  },
  {
   "cell_type": "code",
   "execution_count": 133,
   "metadata": {},
   "outputs": [
    {
     "output_type": "stream",
     "name": "stdout",
     "text": [
      "{1, 2, 4, 5, 8, 11, 12, 13, 15, 16, 17, 18} | departure location\n{1, 2, 4, 8, 11, 12, 13, 15, 16, 17, 18} | departure station\n{2, 4, 8, 11, 12, 13, 15, 16, 17, 18} | departure platform\n{2, 4, 12, 13, 16, 17, 18} | departure track\n{2, 4, 12, 13, 15, 16, 17, 18} | departure date\n{2, 4, 11, 12, 13, 15, 16, 17, 18} | departure time\n{16, 17, 12} | arrival location\n{16} | arrival station\n{0, 1, 2, 3, 4, 5, 8, 10, 11, 12, 13, 14, 15, 16, 17, 18, 19} | arrival platform\n{0, 1, 2, 3, 4, 5, 6, 8, 9, 10, 11, 12, 13, 14, 15, 16, 17, 18, 19} | arrival track\n{4, 12, 13, 16, 17} | class\n{0, 1, 2, 3, 4, 5, 6, 7, 8, 9, 10, 11, 12, 13, 14, 15, 16, 17, 18, 19} | duration\n{4, 12, 13, 16, 17, 18} | price\n{16, 12} | route\n{1, 2, 3, 4, 5, 8, 10, 11, 12, 13, 15, 16, 17, 18} | row\n{1, 2, 3, 4, 5, 8, 10, 11, 12, 13, 14, 15, 16, 17, 18} | seat\n{1, 2, 3, 4, 5, 8, 10, 11, 12, 13, 14, 15, 16, 17, 18, 19} | train\n{1, 2, 3, 4, 5, 8, 11, 12, 13, 15, 16, 17, 18} | type\n{16, 17, 12, 13} | wagon\n{0, 1, 2, 3, 4, 5, 8, 9, 10, 11, 12, 13, 14, 15, 16, 17, 18, 19} | zone\n"
     ]
    }
   ],
   "source": [
    "for field in fields:\n",
    "    print(f'{field.positions} | {field.name}')"
   ]
  },
  {
   "cell_type": "code",
   "execution_count": 134,
   "metadata": {},
   "outputs": [],
   "source": [
    "fieldMap = {}\n",
    "\n",
    "fields = sorted(fields, key=lambda field: len(field.positions))\n",
    "\n",
    "while fields:\n",
    "    if len(fields[0].positions) > 1:\n",
    "        print(f'{fields[0].name} has more than 1 possible positions: {fields[0].positions}')\n",
    "        break\n",
    "\n",
    "    pos = next(iter(fields[0].positions))\n",
    "    fieldMap[fields[0].name] = pos\n",
    "    for field in fields[1:]:\n",
    "        if pos in field.positions:\n",
    "            field.positions.remove(pos)\n",
    "    \n",
    "    del fields[0]\n"
   ]
  },
  {
   "cell_type": "code",
   "execution_count": 135,
   "metadata": {},
   "outputs": [
    {
     "output_type": "execute_result",
     "data": {
      "text/plain": [
       "{'arrival station': 16,\n",
       " 'route': 12,\n",
       " 'arrival location': 17,\n",
       " 'wagon': 13,\n",
       " 'class': 4,\n",
       " 'price': 18,\n",
       " 'departure track': 2,\n",
       " 'departure date': 15,\n",
       " 'departure time': 11,\n",
       " 'departure platform': 8,\n",
       " 'departure station': 1,\n",
       " 'departure location': 5,\n",
       " 'type': 3,\n",
       " 'row': 10,\n",
       " 'seat': 14,\n",
       " 'train': 19,\n",
       " 'arrival platform': 0,\n",
       " 'zone': 9,\n",
       " 'arrival track': 6,\n",
       " 'duration': 7}"
      ]
     },
     "metadata": {},
     "execution_count": 135
    }
   ],
   "source": [
    "fieldMap"
   ]
  },
  {
   "cell_type": "code",
   "execution_count": 136,
   "metadata": {},
   "outputs": [
    {
     "output_type": "stream",
     "name": "stdout",
     "text": [
      "departure track\ndeparture date\ndeparture time\ndeparture platform\ndeparture station\ndeparture location\n2843534243843\n"
     ]
    }
   ],
   "source": [
    "p = 1\n",
    "for name, pos in fieldMap.items():\n",
    "    if name[:len('departure')] == 'departure':\n",
    "        print(name)\n",
    "        p *= my[pos]\n",
    "    \n",
    "print(p)"
   ]
  },
  {
   "cell_type": "code",
   "execution_count": null,
   "metadata": {},
   "outputs": [],
   "source": []
  }
 ]
}