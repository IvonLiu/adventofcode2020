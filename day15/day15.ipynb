{
 "metadata": {
  "language_info": {
   "codemirror_mode": {
    "name": "ipython",
    "version": 3
   },
   "file_extension": ".py",
   "mimetype": "text/x-python",
   "name": "python",
   "nbconvert_exporter": "python",
   "pygments_lexer": "ipython3",
   "version": "3.6.7-final"
  },
  "orig_nbformat": 2,
  "kernelspec": {
   "name": "python3",
   "display_name": "Python 3",
   "language": "python"
  }
 },
 "nbformat": 4,
 "nbformat_minor": 2,
 "cells": [
  {
   "cell_type": "code",
   "execution_count": 35,
   "metadata": {},
   "outputs": [],
   "source": [
    "import time"
   ]
  },
  {
   "cell_type": "code",
   "execution_count": 36,
   "metadata": {},
   "outputs": [],
   "source": [
    "input = [0,1,4,13,15,12,16]\n",
    "# input = [3,1,2]"
   ]
  },
  {
   "cell_type": "code",
   "execution_count": 40,
   "metadata": {},
   "outputs": [
    {
     "output_type": "stream",
     "name": "stdout",
     "text": [
      "16439\nTook 19.74721598625183 seconds\n"
     ]
    }
   ],
   "source": [
    "ts = time.time()\n",
    "\n",
    "num = input[0]\n",
    "turns = [-1] * 30000001\n",
    "for i in range(1, 30000001):\n",
    "    prevNum = num\n",
    "    if i-1 < len(input):\n",
    "        num = input[i-1]\n",
    "    else:\n",
    "        if turns[num] != -1:\n",
    "            num = i - 1 - turns[num]\n",
    "        else:\n",
    "            num = 0\n",
    "    turns[prevNum] = i-1\n",
    "    \n",
    "te = time.time()\n",
    "\n",
    "print(num)\n",
    "print(f'Took {te-ts} seconds')"
   ]
  },
  {
   "cell_type": "code",
   "execution_count": null,
   "metadata": {},
   "outputs": [],
   "source": [
    "16439"
   ]
  }
 ]
}