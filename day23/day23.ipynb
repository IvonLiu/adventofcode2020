{
 "cells": [
  {
   "cell_type": "code",
   "execution_count": 97,
   "metadata": {
    "collapsed": true
   },
   "outputs": [],
   "source": [
    "class Ring:\n",
    "    def __init__(self):\n",
    "        self.head = None\n",
    "        self.map = {}\n",
    " \n",
    "    def append(self, i):\n",
    "        node = Node(i)\n",
    "        self.map[i] = node\n",
    "        if not self.head:\n",
    "            self.head = node\n",
    "            node.next = node\n",
    "            node.prev = node\n",
    "        else:\n",
    "            node.prev = self.head.prev\n",
    "            node.next = self.head\n",
    "            self.head.prev.next = node\n",
    "            self.head.prev = node\n",
    "    \n",
    "    def get(self, i):\n",
    "        return self.map[i]\n",
    "    \n",
    "    def rotate(self):\n",
    "        if self.head and self.head.next:\n",
    "            self.head = self.head.next\n",
    "            \n",
    "    def display(self):\n",
    "        curr = self.head\n",
    "        s = ''\n",
    "        while True:\n",
    "            s += str(curr.val)\n",
    "            curr = curr.next\n",
    "            if curr is self.head:\n",
    "                break\n",
    "        print(s)\n",
    "\n",
    "class Node:\n",
    "    def __init__(self, val):\n",
    "        self.val = val\n",
    "        self.next = None\n",
    "        self.prev = None"
   ]
  },
  {
   "cell_type": "code",
   "execution_count": 101,
   "metadata": {},
   "outputs": [],
   "source": [
    "input = '476138259'\n",
    "# input = '389125467' # sample\n",
    "\n",
    "cups = Ring()\n",
    "for c in input:\n",
    "    cups.append(int(c))"
   ]
  },
  {
   "cell_type": "code",
   "execution_count": 102,
   "metadata": {},
   "outputs": [],
   "source": [
    "def move(cups):\n",
    "    c = cups.head\n",
    "    i = c.val\n",
    "    \n",
    "    removed = set()\n",
    "    for _ in range(3):\n",
    "        c = c.next\n",
    "        removed.add(c.val)\n",
    "    \n",
    "    j = ((((i - 1) - 1) + 9) % 9) + 1\n",
    "    while j in removed:\n",
    "        j = ((((j - 1) - 1) + 9) % 9) + 1\n",
    "    \n",
    "    d = cups.get(j)\n",
    "    h = cups.head\n",
    "    s = h.next\n",
    "    \n",
    "    h.next = c.next\n",
    "    c.next.prev = h\n",
    "    c.next = d.next\n",
    "    d.next.prev = c\n",
    "    d.next = s\n",
    "    s.prev = d\n",
    "    \n",
    "    cups.rotate()"
   ]
  },
  {
   "cell_type": "code",
   "execution_count": 103,
   "metadata": {},
   "outputs": [
    {
     "name": "stdout",
     "output_type": "stream",
     "text": [
      "476138259\n"
     ]
    }
   ],
   "source": [
    "cups.display()"
   ]
  },
  {
   "cell_type": "code",
   "execution_count": 104,
   "metadata": {},
   "outputs": [],
   "source": [
    "for _ in range(100):\n",
    "    move(cups)"
   ]
  },
  {
   "cell_type": "code",
   "execution_count": 105,
   "metadata": {},
   "outputs": [
    {
     "name": "stdout",
     "output_type": "stream",
     "text": [
      "197245386\n"
     ]
    }
   ],
   "source": [
    "cups.display()"
   ]
  },
  {
   "cell_type": "code",
   "execution_count": null,
   "metadata": {
    "collapsed": true
   },
   "outputs": [],
   "source": []
  }
 ],
 "metadata": {
  "kernelspec": {
   "display_name": "Python 3",
   "language": "python",
   "name": "python3"
  },
  "language_info": {
   "codemirror_mode": {
    "name": "ipython",
    "version": 3
   },
   "file_extension": ".py",
   "mimetype": "text/x-python",
   "name": "python",
   "nbconvert_exporter": "python",
   "pygments_lexer": "ipython3",
   "version": "3.6.4"
  }
 },
 "nbformat": 4,
 "nbformat_minor": 2
}
