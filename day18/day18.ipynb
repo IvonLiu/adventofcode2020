{
 "cells": [
  {
   "cell_type": "code",
   "execution_count": 1,
   "metadata": {
    "collapsed": true
   },
   "outputs": [],
   "source": [
    "from IPython.core.debugger import set_trace"
   ]
  },
  {
   "cell_type": "code",
   "execution_count": 35,
   "metadata": {},
   "outputs": [],
   "source": [
    "OPS = {\n",
    "    #'^': 3,\n",
    "    '*': 1,\n",
    "    #'/': 2,\n",
    "    '+': 2,\n",
    "    #'-': 1\n",
    "}\n",
    "\n",
    "def evalInfix(eq):\n",
    "    eq += ' '\n",
    "    \n",
    "    postfix = []\n",
    "    stack = []\n",
    "    \n",
    "    val = ''\n",
    "    readVal = False\n",
    "    \n",
    "    for c in eq:\n",
    "        if c.isdigit():\n",
    "            readVal = True\n",
    "            val += c\n",
    "        elif readVal and not c.isdigit():\n",
    "            readVal = False\n",
    "            postfix.append(int(val))\n",
    "            val = ''\n",
    "        \n",
    "        if c in OPS.keys():\n",
    "            while stack and stack[-1] != '(' and OPS[stack[-1]] >= OPS[c]:\n",
    "                postfix.append(stack.pop())\n",
    "            stack.append(c)\n",
    "        elif c == '(':\n",
    "            stack.append(c)\n",
    "        elif c == ')':\n",
    "            while stack and stack[-1] != '(':\n",
    "                postfix.append(stack.pop())\n",
    "            stack.pop()\n",
    "    \n",
    "    while stack:\n",
    "        postfix.append(stack.pop())\n",
    "        \n",
    "    return evalPostfix(postfix)\n",
    "\n",
    "def evalPostfix(postfix):\n",
    "    stack = []\n",
    "    for c in postfix:\n",
    "        if c == '+':\n",
    "            a = stack.pop()\n",
    "            b = stack.pop()\n",
    "            stack.append(a + b)\n",
    "        elif c == '*':\n",
    "            a = stack.pop()\n",
    "            b = stack.pop()\n",
    "            stack.append(a * b)\n",
    "        else:\n",
    "            stack.append(c)\n",
    "    return stack[0]"
   ]
  },
  {
   "cell_type": "code",
   "execution_count": 37,
   "metadata": {},
   "outputs": [
    {
     "name": "stdout",
     "output_type": "stream",
     "text": [
      "290726428573651\n"
     ]
    }
   ],
   "source": [
    "s = 0\n",
    "with open('input.txt') as f:\n",
    "    while True:\n",
    "        line = f.readline()\n",
    "        if not line:\n",
    "            break\n",
    "        t = evalInfix(line.strip())\n",
    "        s += t\n",
    "\n",
    "print(s)"
   ]
  },
  {
   "cell_type": "code",
   "execution_count": null,
   "metadata": {
    "collapsed": true
   },
   "outputs": [],
   "source": []
  }
 ],
 "metadata": {
  "kernelspec": {
   "display_name": "Python 3",
   "language": "python",
   "name": "python3"
  },
  "language_info": {
   "codemirror_mode": {
    "name": "ipython",
    "version": 3
   },
   "file_extension": ".py",
   "mimetype": "text/x-python",
   "name": "python",
   "nbconvert_exporter": "python",
   "pygments_lexer": "ipython3",
   "version": "3.6.4"
  }
 },
 "nbformat": 4,
 "nbformat_minor": 2
}
