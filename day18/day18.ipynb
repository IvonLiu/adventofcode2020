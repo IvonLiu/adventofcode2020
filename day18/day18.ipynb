{
 "cells": [
  {
   "cell_type": "code",
   "execution_count": 101,
   "metadata": {},
   "outputs": [],
   "source": [
    "def calc(eq):\n",
    "    eq += ' '\n",
    "    \n",
    "    postfix = []\n",
    "    ops = []\n",
    "    \n",
    "    op = ''\n",
    "    val = ''\n",
    "    readDigit = False\n",
    "    \n",
    "    # convert to postfix\n",
    "    for c in eq:\n",
    "        if c.isdigit():\n",
    "            readDigit = True\n",
    "            val += c\n",
    "        elif readDigit and not c.isdigit():\n",
    "            readDigit = False\n",
    "            postfix.append(int(val))\n",
    "            val = ''\n",
    "            if op:\n",
    "                postfix.append(op)\n",
    "                op = ''\n",
    "\n",
    "        if c == '+' or c == '*':\n",
    "            op = c\n",
    "        elif c == '(':\n",
    "            ops.append(op)\n",
    "            op = ''\n",
    "        elif c == ')':\n",
    "            op = ops.pop()\n",
    "            if op:\n",
    "                postfix.append(op)\n",
    "            op = ''\n",
    "                \n",
    "    if ops:\n",
    "        print('--- ops leftover')\n",
    "        print(eq)\n",
    "        print(ops)\n",
    "        print('---')\n",
    "    print(postfix)\n",
    "    \n",
    "    # evaluate the postfix expression\n",
    "    return evalPostfix(postfix)\n",
    "\n",
    "def evalPostfix(postfix):\n",
    "    stack = []\n",
    "    for c in postfix:\n",
    "        if c == '+':\n",
    "            a = stack.pop()\n",
    "            b = stack.pop()\n",
    "            stack.append(a + b)\n",
    "        elif c == '*':\n",
    "            a = stack.pop()\n",
    "            b = stack.pop()\n",
    "            stack.append(a * b)\n",
    "        else:\n",
    "            stack.append(c)\n",
    "    return stack[0]"
   ]
  },
  {
   "cell_type": "code",
   "execution_count": 97,
   "metadata": {},
   "outputs": [
    {
     "name": "stdout",
     "output_type": "stream",
     "text": [
      "[2, 3, '*', 4, 5, '*', '+']\n",
      "26\n",
      "[5, 8, 3, '*', 9, '+', 3, '+', 4, '*', 3, '*', '+']\n",
      "437\n",
      "[5, 9, '*', 7, 3, '*', 3, '*', 9, '+', 3, '*', 8, 6, '+', 4, '*', '+', '*']\n",
      "12240\n",
      "[2, 4, 9, '*', 6, 9, '+', 8, '*', 6, '+', '*', 6, '+', '+', 2, '+', 4, '+', 2, '*']\n",
      "9100\n",
      "\n",
      "21803\n"
     ]
    }
   ],
   "source": [
    "s = 0\n",
    "with open('input_sample.txt') as f:\n",
    "    while True:\n",
    "        line = f.readline()\n",
    "        if not line:\n",
    "            break\n",
    "        t = calc(line.strip())\n",
    "        print(t)\n",
    "        s += t\n",
    "\n",
    "print()\n",
    "print(s)"
   ]
  },
  {
   "cell_type": "code",
   "execution_count": 102,
   "metadata": {},
   "outputs": [
    {
     "name": "stdout",
     "output_type": "stream",
     "text": [
      "[2, 4, '+', 9, '*', 6, 9, '+', 8, '*', 6, '+', '*', 6, '+', 2, '+', 4, '+', 2, '*']\n"
     ]
    },
    {
     "data": {
      "text/plain": [
       "13632"
      ]
     },
     "execution_count": 102,
     "metadata": {},
     "output_type": "execute_result"
    }
   ],
   "source": [
    "calc('((2 + 4 * 9) * (6 + 9 * 8 + 6) + 6) + 2 + 4 * 2')"
   ]
  },
  {
   "cell_type": "code",
   "execution_count": 103,
   "metadata": {},
   "outputs": [
    {
     "name": "stdout",
     "output_type": "stream",
     "text": [
      "[4, 7, 5, '+', 7, '+', '*', 9, '+', 2, '+', 5, 6, '*', 9, '*', 6, '+', 3, '+', '*', 3, '+']\n"
     ]
    },
    {
     "data": {
      "text/plain": [
       "24276"
      ]
     },
     "execution_count": 103,
     "metadata": {},
     "output_type": "execute_result"
    }
   ],
   "source": [
    "calc('4 * (7 + 5 + 7) + 9 + 2 * ((5 * 6) * 9 + 6 + 3) + 3 ')"
   ]
  },
  {
   "cell_type": "code",
   "execution_count": 88,
   "metadata": {},
   "outputs": [
    {
     "data": {
      "text/plain": [
       "24276"
      ]
     },
     "execution_count": 88,
     "metadata": {},
     "output_type": "execute_result"
    }
   ],
   "source": [
    "evalPostfix([4, 7, 5, '+', 7, '+', '*', 9, '+', 2, '+', 5, 6, '*', 9, '*', 6, '+', 3, '+', '*', 3, '+'])"
   ]
  },
  {
   "cell_type": "code",
   "execution_count": 100,
   "metadata": {},
   "outputs": [
    {
     "name": "stdout",
     "output_type": "stream",
     "text": [
      "[1, 2, 3, 4, '+', '+', '+']\n"
     ]
    },
    {
     "data": {
      "text/plain": [
       "10"
      ]
     },
     "execution_count": 100,
     "metadata": {},
     "output_type": "execute_result"
    }
   ],
   "source": [
    "calc('(1 + (2 + (3 + 4)))')"
   ]
  },
  {
   "cell_type": "code",
   "execution_count": null,
   "metadata": {
    "collapsed": true
   },
   "outputs": [],
   "source": []
  }
 ],
 "metadata": {
  "kernelspec": {
   "display_name": "Python 3",
   "language": "python",
   "name": "python3"
  },
  "language_info": {
   "codemirror_mode": {
    "name": "ipython",
    "version": 3
   },
   "file_extension": ".py",
   "mimetype": "text/x-python",
   "name": "python",
   "nbconvert_exporter": "python",
   "pygments_lexer": "ipython3",
   "version": "3.6.4"
  }
 },
 "nbformat": 4,
 "nbformat_minor": 2
}
